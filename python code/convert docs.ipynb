{
 "cells": [
  {
   "cell_type": "code",
   "execution_count": 10,
   "id": "f14a3f5c",
   "metadata": {
    "scrolled": true
   },
   "outputs": [
    {
     "ename": "RuntimeError",
     "evalue": "Proxy error(DirectoryNotFoundException): Could not find a part of the path 'C:\\Users\\AL-Motahida\\Desktop\\python\\'.",
     "output_type": "error",
     "traceback": [
      "\u001b[1;31m---------------------------------------------------------------------------\u001b[0m",
      "\u001b[1;31mRuntimeError\u001b[0m                              Traceback (most recent call last)",
      "Input \u001b[1;32mIn [10]\u001b[0m, in \u001b[0;36m<cell line: 4>\u001b[1;34m()\u001b[0m\n\u001b[0;32m      1\u001b[0m \u001b[38;5;66;03m#to docx\u001b[39;00m\n\u001b[0;32m      2\u001b[0m \u001b[38;5;28;01mimport\u001b[39;00m \u001b[38;5;21;01maspose\u001b[39;00m\u001b[38;5;21;01m.\u001b[39;00m\u001b[38;5;21;01mwords\u001b[39;00m \u001b[38;5;28;01mas\u001b[39;00m \u001b[38;5;21;01maw\u001b[39;00m\n\u001b[1;32m----> 4\u001b[0m doc \u001b[38;5;241m=\u001b[39m \u001b[43maw\u001b[49m\u001b[38;5;241;43m.\u001b[39;49m\u001b[43mDocument\u001b[49m\u001b[43m(\u001b[49m\u001b[38;5;124;43m\"\u001b[39;49m\u001b[38;5;124;43m...................\u001b[39;49m\u001b[38;5;124;43m\"\u001b[39;49m\u001b[43m)\u001b[49m\n\u001b[0;32m      5\u001b[0m doc\u001b[38;5;241m.\u001b[39msave(\u001b[38;5;124m\"\u001b[39m\u001b[38;5;124mOutput.docx\u001b[39m\u001b[38;5;124m\"\u001b[39m)\n",
      "\u001b[1;31mRuntimeError\u001b[0m: Proxy error(DirectoryNotFoundException): Could not find a part of the path 'C:\\Users\\AL-Motahida\\Desktop\\python\\'."
     ]
    }
   ],
   "source": [
    "#to docx\n",
    "import aspose.words as aw\n",
    "\n",
    "doc = aw.Document(\"...................\")\n",
    "doc.save(\"Output.docx\")"
   ]
  },
  {
   "cell_type": "code",
   "execution_count": null,
   "id": "bd1e840e",
   "metadata": {},
   "outputs": [],
   "source": [
    "#to pptx\n",
    "import aspose.slides as slides\n",
    "\n",
    "# Create presentation\n",
    "with slides.Presentation() as pres:\n",
    "\n",
    "    # Remove default slide from presentation\n",
    "    pres.slides.remove_at(0)\n",
    "\n",
    "    # Import PDF to presentation\n",
    "    pres.slides.add_from_pdf(\"Lecture 3 (Lecture 3 (A Fair-Minded Thinker)).pdf\")\n",
    "\n",
    "    # Save presentation\n",
    "    pres.save(\"Lecture 3 (Lecture 3 (A Fair-Minded Thinker)).pptx\", slides.export.SaveFormat.PPTX)"
   ]
  },
  {
   "cell_type": "code",
   "execution_count": null,
   "id": "720c3bcf",
   "metadata": {},
   "outputs": [],
   "source": [
    "#to pdf\n",
    "import aspose.words as aw\n",
    "\n",
    "doc = aw.Document(\"...................\")\n",
    "doc.save(\"Output.pdf\")"
   ]
  },
  {
   "cell_type": "code",
   "execution_count": null,
   "id": "c0005bce",
   "metadata": {},
   "outputs": [],
   "source": [
    "#to md\n",
    "import aspose.words as aw\n",
    "\n",
    "doc = aw.Document(\"...................\")\n",
    "doc.save(\"Output.md\")"
   ]
  },
  {
   "cell_type": "code",
   "execution_count": null,
   "id": "f22c39f3",
   "metadata": {},
   "outputs": [],
   "source": [
    "#to html\n",
    "import aspose.words as aw\n",
    "\n",
    "doc = aw.Document(\"...................\")\n",
    "doc.save(\"Output.html\")"
   ]
  },
  {
   "cell_type": "code",
   "execution_count": null,
   "id": "3ad5dbf2",
   "metadata": {},
   "outputs": [],
   "source": [
    "#to txt\n",
    "import aspose.words as aw\n",
    "\n",
    "doc = aw.Document(\"...................\")\n",
    "doc.save(\"Output.txt\")"
   ]
  },
  {
   "cell_type": "code",
   "execution_count": null,
   "id": "f3f09188",
   "metadata": {},
   "outputs": [],
   "source": [
    "#to doc\n",
    "import aspose.words as aw\n",
    "\n",
    "doc = aw.Document(\"...................\")\n",
    "doc.save(\"Output.doc\")"
   ]
  },
  {
   "cell_type": "code",
   "execution_count": null,
   "id": "0c13adda",
   "metadata": {},
   "outputs": [],
   "source": [
    "#to dot\n",
    "import aspose.words as aw\n",
    "\n",
    "doc = aw.Document(\"...................\")\n",
    "doc.save(\"Output.dot\")"
   ]
  },
  {
   "cell_type": "code",
   "execution_count": null,
   "id": "2322119f",
   "metadata": {},
   "outputs": [],
   "source": [
    "#to docm\n",
    "import aspose.words as aw\n",
    "\n",
    "doc = aw.Document(\"...................\")\n",
    "doc.save(\"Output.docm\")"
   ]
  },
  {
   "cell_type": "code",
   "execution_count": null,
   "id": "745ef2a6",
   "metadata": {},
   "outputs": [],
   "source": [
    "#to dotx\n",
    "import aspose.words as aw\n",
    "\n",
    "doc = aw.Document(\"...................\")\n",
    "doc.save(\"Output.dotx\")"
   ]
  },
  {
   "cell_type": "code",
   "execution_count": null,
   "id": "60b9225b",
   "metadata": {},
   "outputs": [],
   "source": [
    "#to dotm\n",
    "import aspose.words as aw\n",
    "\n",
    "doc = aw.Document(\"...................\")\n",
    "doc.save(\"Output.dotm\")"
   ]
  },
  {
   "cell_type": "code",
   "execution_count": null,
   "id": "376a4adb",
   "metadata": {},
   "outputs": [],
   "source": [
    "#to rtf\n",
    "import aspose.words as aw\n",
    "\n",
    "doc = aw.Document(\"...................\")\n",
    "doc.save(\"Output.rtf\")"
   ]
  },
  {
   "cell_type": "code",
   "execution_count": null,
   "id": "e59ba7dc",
   "metadata": {},
   "outputs": [],
   "source": [
    "#to epub\n",
    "import aspose.words as aw\n",
    "\n",
    "doc = aw.Document(\"...................\")\n",
    "doc.save(\"Output.epub\")"
   ]
  },
  {
   "cell_type": "code",
   "execution_count": null,
   "id": "d08b1abd",
   "metadata": {},
   "outputs": [],
   "source": [
    "#to ps\n",
    "import aspose.words as aw\n",
    "\n",
    "doc = aw.Document(\"...................\")\n",
    "doc.save(\"Output.ps\")"
   ]
  },
  {
   "cell_type": "code",
   "execution_count": null,
   "id": "59d31155",
   "metadata": {},
   "outputs": [],
   "source": [
    "#to pcl\n",
    "import aspose.words as aw\n",
    "\n",
    "doc = aw.Document(\"...................\")\n",
    "doc.save(\"Output.pcl\")"
   ]
  },
  {
   "cell_type": "code",
   "execution_count": null,
   "id": "b2a2b5df",
   "metadata": {},
   "outputs": [],
   "source": [
    "#to mhtml\n",
    "import aspose.words as aw\n",
    "\n",
    "doc = aw.Document(\"...................\")\n",
    "doc.save(\"Output.mhtml\")"
   ]
  },
  {
   "cell_type": "code",
   "execution_count": null,
   "id": "1dcf0168",
   "metadata": {},
   "outputs": [],
   "source": [
    "#to xhtml\n",
    "import aspose.words as aw\n",
    "\n",
    "doc = aw.Document(\"...................\")\n",
    "doc.save(\"Output.xhtml\")"
   ]
  },
  {
   "cell_type": "code",
   "execution_count": null,
   "id": "c418ac59",
   "metadata": {},
   "outputs": [],
   "source": [
    "#to odt\n",
    "import aspose.words as aw\n",
    "\n",
    "doc = aw.Document(\"...................\")\n",
    "doc.save(\"Output.odt\")"
   ]
  },
  {
   "cell_type": "code",
   "execution_count": null,
   "id": "81b88947",
   "metadata": {},
   "outputs": [],
   "source": [
    "#to ott\n",
    "import aspose.words as aw\n",
    "\n",
    "doc = aw.Document(\"...................\")\n",
    "doc.save(\"Output.ott\")"
   ]
  },
  {
   "cell_type": "code",
   "execution_count": null,
   "id": "5ac52803",
   "metadata": {},
   "outputs": [],
   "source": [
    "#to xps\n",
    "import aspose.words as aw\n",
    "\n",
    "doc = aw.Document(\"...................\")\n",
    "doc.save(\"Output.ott\")"
   ]
  },
  {
   "cell_type": "code",
   "execution_count": null,
   "id": "dbdebb23",
   "metadata": {},
   "outputs": [],
   "source": [
    "#to png\n",
    "import aspose.words as aw\n",
    "\n",
    "doc = aw.Document(...................)\n",
    "          \n",
    "for page in range(0, doc.page_count):\n",
    "    extractedPage = doc.extract_pages(page, 1)\n",
    "    extractedPage.save(f\"Output_{page + 1}.png\")"
   ]
  },
  {
   "cell_type": "code",
   "execution_count": null,
   "id": "855c5dbe",
   "metadata": {},
   "outputs": [],
   "source": [
    "#to bmp\n",
    "import aspose.words as aw\n",
    "\n",
    "doc = aw.Document(...................)\n",
    "          \n",
    "for page in range(0, doc.page_count):\n",
    "    extractedPage = doc.extract_pages(page, 1)\n",
    "    extractedPage.save(f\"Output_{page + 1}.bmp\")"
   ]
  },
  {
   "cell_type": "code",
   "execution_count": null,
   "id": "0a10e077",
   "metadata": {},
   "outputs": [],
   "source": [
    "#to emf\n",
    "import aspose.words as aw\n",
    "\n",
    "doc = aw.Document(...................)\n",
    "          \n",
    "for page in range(0, doc.page_count):\n",
    "    extractedPage = doc.extract_pages(page, 1)\n",
    "    extractedPage.save(f\"Output_{page + 1}.emf\")"
   ]
  },
  {
   "cell_type": "code",
   "execution_count": null,
   "id": "9df470d3",
   "metadata": {},
   "outputs": [],
   "source": [
    "#to gif\n",
    "import aspose.words as aw\n",
    "\n",
    "doc = aw.Document(...................)\n",
    "          \n",
    "for page in range(0, doc.page_count):\n",
    "    extractedPage = doc.extract_pages(page, 1)\n",
    "    extractedPage.save(f\"Output_{page + 1}.gif\")"
   ]
  },
  {
   "cell_type": "code",
   "execution_count": null,
   "id": "69258798",
   "metadata": {},
   "outputs": [],
   "source": [
    "#to svg\n",
    "import aspose.words as aw\n",
    "\n",
    "doc = aw.Document(...................)\n",
    "          \n",
    "for page in range(0, doc.page_count):\n",
    "    extractedPage = doc.extract_pages(page, 1)\n",
    "    extractedPage.save(f\"Output_{page + 1}.svg\")"
   ]
  },
  {
   "cell_type": "code",
   "execution_count": null,
   "id": "f92dd94b",
   "metadata": {},
   "outputs": [],
   "source": [
    "#to tiff\n",
    "import aspose.words as aw\n",
    "\n",
    "doc = aw.Document(...................)\n",
    "          \n",
    "for page in range(0, doc.page_count):\n",
    "    extractedPage = doc.extract_pages(page, 1)\n",
    "    extractedPage.save(f\"Output_{page + 1}.tiff\")"
   ]
  },
  {
   "cell_type": "code",
   "execution_count": null,
   "id": "027dd22a",
   "metadata": {},
   "outputs": [],
   "source": [
    "#to jpg\n",
    "import aspose.words as aw\n",
    "\n",
    "doc = aw.Document(...................)\n",
    "          \n",
    "for page in range(0, doc.page_count):\n",
    "    extractedPage = doc.extract_pages(page, 1)\n",
    "    extractedPage.save(f\"Output_{page + 1}.tiff\")"
   ]
  }
 ],
 "metadata": {
  "kernelspec": {
   "display_name": "Python 3 (ipykernel)",
   "language": "python",
   "name": "python3"
  },
  "language_info": {
   "codemirror_mode": {
    "name": "ipython",
    "version": 3
   },
   "file_extension": ".py",
   "mimetype": "text/x-python",
   "name": "python",
   "nbconvert_exporter": "python",
   "pygments_lexer": "ipython3",
   "version": "3.9.12"
  }
 },
 "nbformat": 4,
 "nbformat_minor": 5
}
